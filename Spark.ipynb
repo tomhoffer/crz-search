{
 "cells": [
  {
   "cell_type": "code",
   "execution_count": 4,
   "metadata": {},
   "outputs": [],
   "source": [
    "from pyspark import *\n",
    "from pyspark.sql import *\n",
    "from graphframes import *\n",
    "spark = SparkSession.builder.appName('fun').getOrCreate()\n",
    "spark.conf.set(\"spark.sql.debug.maxToStringFields\", 1000)"
   ]
  },
  {
   "cell_type": "markdown",
   "metadata": {},
   "source": [
    "# Importing vertices and edges from csv files"
   ]
  },
  {
   "cell_type": "code",
   "execution_count": 7,
   "metadata": {},
   "outputs": [],
   "source": [
    "vertices = spark.read.option(\"header\",True).csv(\"vertices.csv\").distinct()\n",
    "edges = spark.read.option(\"header\",True).csv(\"edges.csv\").distinct()\n",
    "g = GraphFrame(vertices, edges)"
   ]
  },
  {
   "cell_type": "markdown",
   "metadata": {},
   "source": [
    "# Finding all paths between 2 nodes"
   ]
  },
  {
   "cell_type": "code",
   "execution_count": 8,
   "metadata": {},
   "outputs": [
    {
     "name": "stderr",
     "output_type": "stream",
     "text": [
      "[Stage 70:=======>                                                  (1 + 7) / 8]\r"
     ]
    },
    {
     "name": "stdout",
     "output_type": "stream",
     "text": [
      "+------+-----------------------------------------------------------------------------------------------------------------------------------------------------------------------------------------------------------------------------------------------------------------------------------------------------------------+------------------------+\n",
      "|from  |e0                                                                                                                                                                                                                                                                                                               |to                      |\n",
      "+------+-----------------------------------------------------------------------------------------------------------------------------------------------------------------------------------------------------------------------------------------------------------------------------------------------------------------+------------------------+\n",
      "|{SCMM}|{SCMM, TRACO COMPUTERS S.R.O., contract, https://www.crz.gov.sk/116549/, 116549, KaVSÚ-1-9/2011, Ministerstvo obrany SR, SCMM, null, TRACO COMPUTERS S.R.O., null, Doplnok č.3 k RD č. KaVSÚ-2-213/2009 servis a údržba DTP štúdia, Zmena sadzby DPH z 19% na 20%, 0.0, 01.02.2011, null, 02.02.2011, 31.12.2011}|{TRACO COMPUTERS S.R.O.}|\n",
      "+------+-----------------------------------------------------------------------------------------------------------------------------------------------------------------------------------------------------------------------------------------------------------------------------------------------------------------+------------------------+\n",
      "\n"
     ]
    },
    {
     "name": "stderr",
     "output_type": "stream",
     "text": [
      "\r",
      "[Stage 70:==============>                                           (2 + 6) / 8]\r",
      "\r",
      "                                                                                \r"
     ]
    }
   ],
   "source": [
    "paths = g.bfs(fromExpr=\"id = 'SCMM'\", toExpr=\"id = 'TRACO COMPUTERS S.R.O.'\", maxPathLength=10)\n",
    "paths.show(100, truncate=False)"
   ]
  },
  {
   "cell_type": "code",
   "execution_count": null,
   "metadata": {},
   "outputs": [],
   "source": []
  }
 ],
 "metadata": {
  "kernelspec": {
   "display_name": "Python 3 (ipykernel)",
   "language": "python",
   "name": "python3"
  },
  "language_info": {
   "codemirror_mode": {
    "name": "ipython",
    "version": 3
   },
   "file_extension": ".py",
   "mimetype": "text/x-python",
   "name": "python",
   "nbconvert_exporter": "python",
   "pygments_lexer": "ipython3",
   "version": "3.9.7"
  }
 },
 "nbformat": 4,
 "nbformat_minor": 4
}
