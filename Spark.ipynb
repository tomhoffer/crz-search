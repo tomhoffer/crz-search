{
 "cells": [
  {
   "cell_type": "code",
   "execution_count": 1,
   "metadata": {},
   "outputs": [],
   "source": [
    "from pyspark import *\n",
    "from pyspark.sql import *\n",
    "from graphframes import *\n",
    "spark = SparkSession.builder.appName('fun').getOrCreate()\n",
    "spark.conf.set(\"spark.sql.debug.maxToStringFields\", 1000)"
   ]
  },
  {
   "cell_type": "markdown",
   "metadata": {},
   "source": [
    "# Importing vertices and edges from csv files"
   ]
  },
  {
   "cell_type": "code",
   "execution_count": 2,
   "metadata": {},
   "outputs": [],
   "source": [
    "vertices = spark.read.option(\"header\",True).csv(\"vertices.csv\").distinct()\n",
    "edges = spark.read.option(\"header\",True).csv(\"edges.csv\").distinct()\n",
    "g = GraphFrame(vertices, edges)"
   ]
  },
  {
   "cell_type": "markdown",
   "metadata": {},
   "source": [
    "# Finding all paths between 2 nodes"
   ]
  },
  {
   "cell_type": "markdown",
   "metadata": {},
   "source": [
    "Companies in a direct contact relationship"
   ]
  },
  {
   "cell_type": "code",
   "execution_count": 4,
   "metadata": {},
   "outputs": [
    {
     "name": "stderr",
     "output_type": "stream",
     "text": [
      "[Stage 62:>               (0 + 15) / 16][Stage 64:>                 (0 + 0) / 1]\r"
     ]
    },
    {
     "name": "stdout",
     "output_type": "stream",
     "text": [
      "-RECORD 0----------------------------------------------------------------------------------------------------\n",
      " from | {SCMM}                                                                                               \n",
      " e0   | {SCMM, TRACO COMPUTERS S.R.O., contract, https://www.crz.gov.sk/116549/, 116549, KaVSÚ-1-9/2011, ... \n",
      " to   | {TRACO COMPUTERS S.R.O.}                                                                             \n",
      "\n",
      "CPU times: user 19.4 ms, sys: 10.3 ms, total: 29.7 ms\n",
      "Wall time: 14.7 s\n"
     ]
    },
    {
     "name": "stderr",
     "output_type": "stream",
     "text": [
      "\r",
      "                                                                                \r"
     ]
    }
   ],
   "source": [
    "%%time\n",
    "paths = g.bfs(fromExpr=\"id = 'SCMM'\", toExpr=\"id = 'TRACO COMPUTERS S.R.O.'\", maxPathLength=10).show(100, truncate=100, vertical=True)"
   ]
  },
  {
   "cell_type": "markdown",
   "metadata": {},
   "source": [
    "Companies on the same address"
   ]
  },
  {
   "cell_type": "code",
   "execution_count": 6,
   "metadata": {},
   "outputs": [
    {
     "name": "stderr",
     "output_type": "stream",
     "text": [
      "                                                                                \r"
     ]
    },
    {
     "name": "stdout",
     "output_type": "stream",
     "text": [
      "-RECORD 0----------------------------------------------------------------------------------------------------\n",
      " from | {SLOVAK TELEKOM, A. S.}                                                                              \n",
      " e0   | {SLOVAK TELEKOM, A. S., Karadžičova 10, street, https://www.crz.gov.sk/156241/, 156241, 8/2011, M... \n",
      " v1   | {Karadžičova 10}                                                                                     \n",
      " e1   | {Karadžičova 10, T MOBILE SLOVAK TELEKOM, A.S., street, https://www.crz.gov.sk/141478/, 141478, 2... \n",
      " to   | {T MOBILE SLOVAK TELEKOM, A.S.}                                                                      \n",
      "only showing top 1 row\n",
      "\n",
      "CPU times: user 37.4 ms, sys: 27.4 ms, total: 64.8 ms\n",
      "Wall time: 27.9 s\n"
     ]
    }
   ],
   "source": [
    "%%time\n",
    "paths = g.bfs(fromExpr=\"id = 'SLOVAK TELEKOM, A. S.'\", toExpr=\"id = 'T MOBILE SLOVAK TELEKOM, A.S.'\", maxPathLength=5).show(1, truncate=100, vertical=True)"
   ]
  },
  {
   "cell_type": "markdown",
   "metadata": {},
   "source": [
    "Companies in the same city"
   ]
  },
  {
   "cell_type": "code",
   "execution_count": 8,
   "metadata": {},
   "outputs": [
    {
     "name": "stderr",
     "output_type": "stream",
     "text": [
      "                                                                                \r"
     ]
    },
    {
     "name": "stdout",
     "output_type": "stream",
     "text": [
      "-RECORD 0----------------------------------------------------------------------------------------------------\n",
      " from | {V. D. S. SPOL. S R. O.}                                                                             \n",
      " e0   | {V. D. S. SPOL. S R. O., Banská Bystrica, city, https://www.crz.gov.sk/124838/, 124838, KRPZ-BB_D... \n",
      " v1   | {Banská Bystrica}                                                                                    \n",
      " e1   | {Banská Bystrica, ENBRA SLOVAKIA S.R.O., city, https://www.crz.gov.sk/124872/, 124872, ZoD 02/201... \n",
      " to   | {ENBRA SLOVAKIA S.R.O.}                                                                              \n",
      "only showing top 1 row\n",
      "\n",
      "CPU times: user 41.9 ms, sys: 22.6 ms, total: 64.6 ms\n",
      "Wall time: 25.8 s\n"
     ]
    }
   ],
   "source": [
    "%%time\n",
    "paths = g.bfs(fromExpr=\"id = 'V. D. S. SPOL. S R. O.'\", toExpr=\"id = 'ENBRA SLOVAKIA S.R.O.'\", maxPathLength=5).show(1, truncate=100, vertical=True)"
   ]
  },
  {
   "cell_type": "markdown",
   "metadata": {},
   "source": [
    "Company closed a contract with another company on the same address"
   ]
  },
  {
   "cell_type": "code",
   "execution_count": 10,
   "metadata": {},
   "outputs": [
    {
     "name": "stderr",
     "output_type": "stream",
     "text": [
      "[Stage 694:==========================================>              (3 + 1) / 4]\r"
     ]
    },
    {
     "name": "stdout",
     "output_type": "stream",
     "text": [
      "-RECORD 0----------------------------------------------------------------------------------------------------\n",
      " from | {SLOVENSKÁ POĽNOHOSPODÁRSKA UNIVERZITA V NITRE}                                                      \n",
      " e0   | {SLOVENSKÁ POĽNOHOSPODÁRSKA UNIVERZITA V NITRE, SLOVAK TELEKOM, A.S., contract, https://www.crz.g... \n",
      " v1   | {SLOVAK TELEKOM, A.S.}                                                                               \n",
      " e1   | {SLOVAK TELEKOM, A.S., Karadžičova 10, street, https://www.crz.gov.sk/143717/, 143717, SITB_D04_S... \n",
      " v2   | {Karadžičova 10}                                                                                     \n",
      " e2   | {Karadžičova 10, T MOBILE SLOVAK TELEKOM, A.S., street, https://www.crz.gov.sk/141478/, 141478, 2... \n",
      " to   | {T MOBILE SLOVAK TELEKOM, A.S.}                                                                      \n",
      "only showing top 1 row\n",
      "\n",
      "CPU times: user 94.7 ms, sys: 40.1 ms, total: 135 ms\n",
      "Wall time: 1min 24s\n"
     ]
    },
    {
     "name": "stderr",
     "output_type": "stream",
     "text": [
      "\r",
      "                                                                                \r"
     ]
    }
   ],
   "source": [
    "%%time\n",
    "paths = g.bfs(fromExpr=\"id = 'SLOVENSKÁ POĽNOHOSPODÁRSKA UNIVERZITA V NITRE'\", toExpr=\"id = 'T MOBILE SLOVAK TELEKOM, A.S.'\", maxPathLength=5).show(1, truncate=100, vertical=True)"
   ]
  },
  {
   "cell_type": "code",
   "execution_count": 20,
   "metadata": {},
   "outputs": [
    {
     "name": "stderr",
     "output_type": "stream",
     "text": [
      "[Stage 359:=======>        (7 + 9) / 16][Stage 361:============>    (6 + 2) / 8]\r"
     ]
    },
    {
     "name": "stdout",
     "output_type": "stream",
     "text": [
      "+---+---+----+\n",
      "|src|dst|type|\n",
      "+---+---+----+\n",
      "+---+---+----+\n",
      "\n"
     ]
    }
   ],
   "source": [
    "# Search for pairs of vertices with edges in both directions between them.\n",
    "#motifs = g.find(\"(a)-[e]->(b); (b)-[e2]->(c)\").filter(\"e.type = 'contract'\").filter(\"e2.type = 'street'\").filter(\"a.id = 'SLOVENSKÁ POĽNOHOSPODÁRSKA UNIVERZITA V NITRE'\").filter(\"b.id = 'T MOBILE SLOVAK TELEKOM, A.S.'\").select(\"e.src\", \"e.dst\", \"e.type\").show()"
   ]
  },
  {
   "cell_type": "code",
   "execution_count": null,
   "metadata": {},
   "outputs": [],
   "source": []
  }
 ],
 "metadata": {
  "kernelspec": {
   "display_name": "Python 3 (ipykernel)",
   "language": "python",
   "name": "python3"
  },
  "language_info": {
   "codemirror_mode": {
    "name": "ipython",
    "version": 3
   },
   "file_extension": ".py",
   "mimetype": "text/x-python",
   "name": "python",
   "nbconvert_exporter": "python",
   "pygments_lexer": "ipython3",
   "version": "3.9.7"
  }
 },
 "nbformat": 4,
 "nbformat_minor": 4
}
