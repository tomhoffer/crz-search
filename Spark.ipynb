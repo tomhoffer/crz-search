{
 "cells": [
  {
   "cell_type": "code",
   "execution_count": 1,
   "metadata": {},
   "outputs": [],
   "source": [
    "from pyspark import *\n",
    "from pyspark.sql import *\n",
    "from graphframes import *\n",
    "spark = SparkSession.builder.appName('fun').getOrCreate()\n",
    "spark.conf.set(\"spark.sql.debug.maxToStringFields\", 1000)"
   ]
  },
  {
   "cell_type": "markdown",
   "metadata": {},
   "source": [
    "# Importing vertices and edges from csv files"
   ]
  },
  {
   "cell_type": "code",
   "execution_count": 2,
   "metadata": {},
   "outputs": [],
   "source": [
    "vertices = spark.read.option(\"header\",True).csv(\"vertices.csv\").distinct()\n",
    "edges = spark.read.option(\"header\",True).csv(\"edges.csv\").distinct()\n",
    "g = GraphFrame(vertices, edges)"
   ]
  },
  {
   "cell_type": "markdown",
   "metadata": {},
   "source": [
    "# Finding all paths between 2 nodes"
   ]
  },
  {
   "cell_type": "markdown",
   "metadata": {},
   "source": [
    "Companies in a direct contact relationship"
   ]
  },
  {
   "cell_type": "code",
   "execution_count": 5,
   "metadata": {},
   "outputs": [
    {
     "name": "stderr",
     "output_type": "stream",
     "text": [
      "[Stage 94:==========================================>              (9 + 3) / 12]\r"
     ]
    },
    {
     "name": "stdout",
     "output_type": "stream",
     "text": [
      "-RECORD 0----------------------------------------------------------------------------------------------------\n",
      " from | {SCMM}                                                                                               \n",
      " e0   | {SCMM, TRACO COMPUTERS S.R.O., contract, https://www.crz.gov.sk/116549/, 116549, KaVSÚ-1-9/2011, ... \n",
      " to   | {TRACO COMPUTERS S.R.O.}                                                                             \n",
      "\n",
      "CPU times: user 33.5 ms, sys: 31.3 ms, total: 64.7 ms\n",
      "Wall time: 35.4 s\n"
     ]
    },
    {
     "name": "stderr",
     "output_type": "stream",
     "text": [
      "\r",
      "                                                                                \r"
     ]
    }
   ],
   "source": [
    "%%time\n",
    "paths = g.bfs(fromExpr=\"id = 'SCMM'\", toExpr=\"id = 'TRACO COMPUTERS S.R.O.'\", maxPathLength=3).show(5, truncate=100, vertical=True)"
   ]
  },
  {
   "cell_type": "markdown",
   "metadata": {},
   "source": [
    "Companies on the same address"
   ]
  },
  {
   "cell_type": "code",
   "execution_count": 6,
   "metadata": {},
   "outputs": [
    {
     "name": "stderr",
     "output_type": "stream",
     "text": [
      "[Stage 166:>                                                        (0 + 4) / 4]\r"
     ]
    },
    {
     "name": "stdout",
     "output_type": "stream",
     "text": [
      "-RECORD 0----------------------------------------------------------------------------------------------------\n",
      " from | {SLOVAK TELEKOM, A. S.}                                                                              \n",
      " e0   | {SLOVAK TELEKOM, A. S., Karadžičova 10, street, https://www.crz.gov.sk/1268830/, 1268830, 8/2014/... \n",
      " v1   | {Karadžičova 10}                                                                                     \n",
      " e1   | {Karadžičova 10, T MOBILE SLOVAK TELEKOM, A.S., street, https://www.crz.gov.sk/141478/, 141478, 2... \n",
      " to   | {T MOBILE SLOVAK TELEKOM, A.S.}                                                                      \n",
      "-RECORD 1----------------------------------------------------------------------------------------------------\n",
      " from | {SLOVAK TELEKOM, A. S.}                                                                              \n",
      " e0   | {SLOVAK TELEKOM, A. S., Karadžičova 10, street, https://www.crz.gov.sk/682373/, 682373, null, Min... \n",
      " v1   | {Karadžičova 10}                                                                                     \n",
      " e1   | {Karadžičova 10, T MOBILE SLOVAK TELEKOM, A.S., street, https://www.crz.gov.sk/141478/, 141478, 2... \n",
      " to   | {T MOBILE SLOVAK TELEKOM, A.S.}                                                                      \n",
      "-RECORD 2----------------------------------------------------------------------------------------------------\n",
      " from | {SLOVAK TELEKOM, A. S.}                                                                              \n",
      " e0   | {SLOVAK TELEKOM, A. S., Karadžičova 10, street, https://www.crz.gov.sk/156241/, 156241, 8/2011, M... \n",
      " v1   | {Karadžičova 10}                                                                                     \n",
      " e1   | {Karadžičova 10, T MOBILE SLOVAK TELEKOM, A.S., street, https://www.crz.gov.sk/141478/, 141478, 2... \n",
      " to   | {T MOBILE SLOVAK TELEKOM, A.S.}                                                                      \n",
      "-RECORD 3----------------------------------------------------------------------------------------------------\n",
      " from | {SLOVAK TELEKOM, A. S.}                                                                              \n",
      " e0   | {SLOVAK TELEKOM, A. S., Karadžičova 10, street, https://www.crz.gov.sk/798740/, 798740, Spr. 190/... \n",
      " v1   | {Karadžičova 10}                                                                                     \n",
      " e1   | {Karadžičova 10, T MOBILE SLOVAK TELEKOM, A.S., street, https://www.crz.gov.sk/141478/, 141478, 2... \n",
      " to   | {T MOBILE SLOVAK TELEKOM, A.S.}                                                                      \n",
      "-RECORD 4----------------------------------------------------------------------------------------------------\n",
      " from | {SLOVAK TELEKOM, A. S.}                                                                              \n",
      " e0   | {SLOVAK TELEKOM, A. S., Karadžičova 10, street, https://www.crz.gov.sk/144766/, 144766, 1216/2010... \n",
      " v1   | {Karadžičova 10}                                                                                     \n",
      " e1   | {Karadžičova 10, T MOBILE SLOVAK TELEKOM, A.S., street, https://www.crz.gov.sk/141478/, 141478, 2... \n",
      " to   | {T MOBILE SLOVAK TELEKOM, A.S.}                                                                      \n",
      "only showing top 5 rows\n",
      "\n",
      "CPU times: user 109 ms, sys: 77.5 ms, total: 187 ms\n",
      "Wall time: 1min 34s\n"
     ]
    },
    {
     "name": "stderr",
     "output_type": "stream",
     "text": [
      "\r",
      "[Stage 166:==============>                                          (1 + 3) / 4]\r",
      "\r",
      "                                                                                \r"
     ]
    }
   ],
   "source": [
    "%%time\n",
    "paths = g.bfs(fromExpr=\"id = 'SLOVAK TELEKOM, A. S.'\", toExpr=\"id = 'T MOBILE SLOVAK TELEKOM, A.S.'\", maxPathLength=3).show(5, truncate=100, vertical=True)"
   ]
  },
  {
   "cell_type": "markdown",
   "metadata": {},
   "source": [
    "Companies in the same city"
   ]
  },
  {
   "cell_type": "code",
   "execution_count": 7,
   "metadata": {},
   "outputs": [
    {
     "name": "stderr",
     "output_type": "stream",
     "text": [
      "                                                                                \r"
     ]
    },
    {
     "name": "stdout",
     "output_type": "stream",
     "text": [
      "-RECORD 0----------------------------------------------------------------------------------------------------\n",
      " from | {V. D. S. SPOL. S R. O.}                                                                             \n",
      " e0   | {V. D. S. SPOL. S R. O., Banská Bystrica, city, https://www.crz.gov.sk/124838/, 124838, KRPZ-BB_D... \n",
      " v1   | {Banská Bystrica}                                                                                    \n",
      " e1   | {Banská Bystrica, ENBRA SLOVAKIA S.R.O., city, https://www.crz.gov.sk/124872/, 124872, ZoD 02/201... \n",
      " to   | {ENBRA SLOVAKIA S.R.O.}                                                                              \n",
      "only showing top 1 row\n",
      "\n",
      "CPU times: user 114 ms, sys: 64.9 ms, total: 179 ms\n",
      "Wall time: 1min 30s\n"
     ]
    }
   ],
   "source": [
    "%%time\n",
    "paths = g.bfs(fromExpr=\"id = 'V. D. S. SPOL. S R. O.'\", toExpr=\"id = 'ENBRA SLOVAKIA S.R.O.'\", maxPathLength=5).show(1, truncate=100, vertical=True)"
   ]
  },
  {
   "cell_type": "markdown",
   "metadata": {},
   "source": [
    "Company closed a contract with another company on the same address"
   ]
  },
  {
   "cell_type": "code",
   "execution_count": 10,
   "metadata": {},
   "outputs": [
    {
     "name": "stderr",
     "output_type": "stream",
     "text": [
      "[Stage 700:==========================================>              (3 + 1) / 4]\r"
     ]
    },
    {
     "name": "stdout",
     "output_type": "stream",
     "text": [
      "-RECORD 0----------------------------------------------------------------------------------------------------\n",
      " from | {SLOVENSKÁ POĽNOHOSPODÁRSKA UNIVERZITA V NITRE}                                                      \n",
      " e0   | {SLOVENSKÁ POĽNOHOSPODÁRSKA UNIVERZITA V NITRE, SLOVAK TELEKOM, A.S., contract, https://www.crz.g... \n",
      " v1   | {SLOVAK TELEKOM, A.S.}                                                                               \n",
      " e1   | {SLOVAK TELEKOM, A.S., Karadžičova 10, street, https://www.crz.gov.sk/867449/, 867449, null, Mini... \n",
      " v2   | {Karadžičova 10}                                                                                     \n",
      " e2   | {Karadžičova 10, T MOBILE SLOVAK TELEKOM, A.S., street, https://www.crz.gov.sk/141478/, 141478, 2... \n",
      " to   | {T MOBILE SLOVAK TELEKOM, A.S.}                                                                      \n",
      "-RECORD 1----------------------------------------------------------------------------------------------------\n",
      " from | {SLOVENSKÁ POĽNOHOSPODÁRSKA UNIVERZITA V NITRE}                                                      \n",
      " e0   | {SLOVENSKÁ POĽNOHOSPODÁRSKA UNIVERZITA V NITRE, SLOVAK TELEKOM, A.S., contract, https://www.crz.g... \n",
      " v1   | {SLOVAK TELEKOM, A.S.}                                                                               \n",
      " e1   | {SLOVAK TELEKOM, A.S., Karadžičova 10, street, https://www.crz.gov.sk/873068/, 873068, null, Mini... \n",
      " v2   | {Karadžičova 10}                                                                                     \n",
      " e2   | {Karadžičova 10, T MOBILE SLOVAK TELEKOM, A.S., street, https://www.crz.gov.sk/141478/, 141478, 2... \n",
      " to   | {T MOBILE SLOVAK TELEKOM, A.S.}                                                                      \n",
      "-RECORD 2----------------------------------------------------------------------------------------------------\n",
      " from | {SLOVENSKÁ POĽNOHOSPODÁRSKA UNIVERZITA V NITRE}                                                      \n",
      " e0   | {SLOVENSKÁ POĽNOHOSPODÁRSKA UNIVERZITA V NITRE, SLOVAK TELEKOM, A.S., contract, https://www.crz.g... \n",
      " v1   | {SLOVAK TELEKOM, A.S.}                                                                               \n",
      " e1   | {SLOVAK TELEKOM, A.S., Karadžičova 10, street, https://www.crz.gov.sk/707349/, 707349,  KZ 990158... \n",
      " v2   | {Karadžičova 10}                                                                                     \n",
      " e2   | {Karadžičova 10, T MOBILE SLOVAK TELEKOM, A.S., street, https://www.crz.gov.sk/141478/, 141478, 2... \n",
      " to   | {T MOBILE SLOVAK TELEKOM, A.S.}                                                                      \n",
      "-RECORD 3----------------------------------------------------------------------------------------------------\n",
      " from | {SLOVENSKÁ POĽNOHOSPODÁRSKA UNIVERZITA V NITRE}                                                      \n",
      " e0   | {SLOVENSKÁ POĽNOHOSPODÁRSKA UNIVERZITA V NITRE, SLOVAK TELEKOM, A.S., contract, https://www.crz.g... \n",
      " v1   | {SLOVAK TELEKOM, A.S.}                                                                               \n",
      " e1   | {SLOVAK TELEKOM, A.S., Karadžičova 10, street, https://www.crz.gov.sk/489334/, 489334, ---1157011... \n",
      " v2   | {Karadžičova 10}                                                                                     \n",
      " e2   | {Karadžičova 10, T MOBILE SLOVAK TELEKOM, A.S., street, https://www.crz.gov.sk/141478/, 141478, 2... \n",
      " to   | {T MOBILE SLOVAK TELEKOM, A.S.}                                                                      \n",
      "-RECORD 4----------------------------------------------------------------------------------------------------\n",
      " from | {SLOVENSKÁ POĽNOHOSPODÁRSKA UNIVERZITA V NITRE}                                                      \n",
      " e0   | {SLOVENSKÁ POĽNOHOSPODÁRSKA UNIVERZITA V NITRE, SLOVAK TELEKOM, A.S., contract, https://www.crz.g... \n",
      " v1   | {SLOVAK TELEKOM, A.S.}                                                                               \n",
      " e1   | {SLOVAK TELEKOM, A.S., Karadžičova 10, street, https://www.crz.gov.sk/377479/, 377479, 0045533315... \n",
      " v2   | {Karadžičova 10}                                                                                     \n",
      " e2   | {Karadžičova 10, T MOBILE SLOVAK TELEKOM, A.S., street, https://www.crz.gov.sk/141478/, 141478, 2... \n",
      " to   | {T MOBILE SLOVAK TELEKOM, A.S.}                                                                      \n",
      "-RECORD 5----------------------------------------------------------------------------------------------------\n",
      " from | {SLOVENSKÁ POĽNOHOSPODÁRSKA UNIVERZITA V NITRE}                                                      \n",
      " e0   | {SLOVENSKÁ POĽNOHOSPODÁRSKA UNIVERZITA V NITRE, SLOVAK TELEKOM, A.S., contract, https://www.crz.g... \n",
      " v1   | {SLOVAK TELEKOM, A.S.}                                                                               \n",
      " e1   | {SLOVAK TELEKOM, A.S., Karadžičova 10, street, https://www.crz.gov.sk/572417/, 572417, 0088598, M... \n",
      " v2   | {Karadžičova 10}                                                                                     \n",
      " e2   | {Karadžičova 10, T MOBILE SLOVAK TELEKOM, A.S., street, https://www.crz.gov.sk/141478/, 141478, 2... \n",
      " to   | {T MOBILE SLOVAK TELEKOM, A.S.}                                                                      \n",
      "-RECORD 6----------------------------------------------------------------------------------------------------\n",
      " from | {SLOVENSKÁ POĽNOHOSPODÁRSKA UNIVERZITA V NITRE}                                                      \n",
      " e0   | {SLOVENSKÁ POĽNOHOSPODÁRSKA UNIVERZITA V NITRE, SLOVAK TELEKOM, A.S., contract, https://www.crz.g... \n",
      " v1   | {SLOVAK TELEKOM, A.S.}                                                                               \n",
      " e1   | {SLOVAK TELEKOM, A.S., Karadžičova 10, street, https://www.crz.gov.sk/1710447/, 1710447, 009/2015... \n",
      " v2   | {Karadžičova 10}                                                                                     \n",
      " e2   | {Karadžičova 10, T MOBILE SLOVAK TELEKOM, A.S., street, https://www.crz.gov.sk/141478/, 141478, 2... \n",
      " to   | {T MOBILE SLOVAK TELEKOM, A.S.}                                                                      \n",
      "-RECORD 7----------------------------------------------------------------------------------------------------\n",
      " from | {SLOVENSKÁ POĽNOHOSPODÁRSKA UNIVERZITA V NITRE}                                                      \n",
      " e0   | {SLOVENSKÁ POĽNOHOSPODÁRSKA UNIVERZITA V NITRE, SLOVAK TELEKOM, A.S., contract, https://www.crz.g... \n",
      " v1   | {SLOVAK TELEKOM, A.S.}                                                                               \n",
      " e1   | {SLOVAK TELEKOM, A.S., Karadžičova 10, street, https://www.crz.gov.sk/489296/, 489296, 0115701150... \n",
      " v2   | {Karadžičova 10}                                                                                     \n",
      " e2   | {Karadžičova 10, T MOBILE SLOVAK TELEKOM, A.S., street, https://www.crz.gov.sk/141478/, 141478, 2... \n",
      " to   | {T MOBILE SLOVAK TELEKOM, A.S.}                                                                      \n",
      "-RECORD 8----------------------------------------------------------------------------------------------------\n",
      " from | {SLOVENSKÁ POĽNOHOSPODÁRSKA UNIVERZITA V NITRE}                                                      \n",
      " e0   | {SLOVENSKÁ POĽNOHOSPODÁRSKA UNIVERZITA V NITRE, SLOVAK TELEKOM, A.S., contract, https://www.crz.g... \n",
      " v1   | {SLOVAK TELEKOM, A.S.}                                                                               \n",
      " e1   | {SLOVAK TELEKOM, A.S., Karadžičova 10, street, https://www.crz.gov.sk/486812/, 486812, 0120110973... \n",
      " v2   | {Karadžičova 10}                                                                                     \n",
      " e2   | {Karadžičova 10, T MOBILE SLOVAK TELEKOM, A.S., street, https://www.crz.gov.sk/141478/, 141478, 2... \n",
      " to   | {T MOBILE SLOVAK TELEKOM, A.S.}                                                                      \n",
      "-RECORD 9----------------------------------------------------------------------------------------------------\n",
      " from | {SLOVENSKÁ POĽNOHOSPODÁRSKA UNIVERZITA V NITRE}                                                      \n",
      " e0   | {SLOVENSKÁ POĽNOHOSPODÁRSKA UNIVERZITA V NITRE, SLOVAK TELEKOM, A.S., contract, https://www.crz.g... \n",
      " v1   | {SLOVAK TELEKOM, A.S.}                                                                               \n",
      " e1   | {SLOVAK TELEKOM, A.S., Karadžičova 10, street, https://www.crz.gov.sk/678047/, 678047, 0132012, M... \n",
      " v2   | {Karadžičova 10}                                                                                     \n",
      " e2   | {Karadžičova 10, T MOBILE SLOVAK TELEKOM, A.S., street, https://www.crz.gov.sk/141478/, 141478, 2... \n",
      " to   | {T MOBILE SLOVAK TELEKOM, A.S.}                                                                      \n",
      "only showing top 10 rows\n",
      "\n",
      "CPU times: user 213 ms, sys: 120 ms, total: 333 ms\n",
      "Wall time: 4min 12s\n"
     ]
    },
    {
     "name": "stderr",
     "output_type": "stream",
     "text": [
      "\r",
      "                                                                                \r"
     ]
    }
   ],
   "source": [
    "%%time\n",
    "paths = g.bfs(fromExpr=\"id = 'SLOVENSKÁ POĽNOHOSPODÁRSKA UNIVERZITA V NITRE'\", toExpr=\"id = 'T MOBILE SLOVAK TELEKOM, A.S.'\", maxPathLength=5).show(10, truncate=100, vertical=True)"
   ]
  },
  {
   "cell_type": "code",
   "execution_count": 20,
   "metadata": {},
   "outputs": [
    {
     "name": "stderr",
     "output_type": "stream",
     "text": [
      "[Stage 359:=======>        (7 + 9) / 16][Stage 361:============>    (6 + 2) / 8]\r"
     ]
    },
    {
     "name": "stdout",
     "output_type": "stream",
     "text": [
      "+---+---+----+\n",
      "|src|dst|type|\n",
      "+---+---+----+\n",
      "+---+---+----+\n",
      "\n"
     ]
    }
   ],
   "source": [
    "# Search for pairs of vertices with edges in both directions between them.\n",
    "#motifs = g.find(\"(a)-[e]->(b); (b)-[e2]->(c)\").filter(\"e.type = 'contract'\").filter(\"e2.type = 'street'\").filter(\"a.id = 'SLOVENSKÁ POĽNOHOSPODÁRSKA UNIVERZITA V NITRE'\").filter(\"b.id = 'T MOBILE SLOVAK TELEKOM, A.S.'\").select(\"e.src\", \"e.dst\", \"e.type\").show()"
   ]
  },
  {
   "cell_type": "code",
   "execution_count": null,
   "metadata": {},
   "outputs": [],
   "source": []
  }
 ],
 "metadata": {
  "kernelspec": {
   "display_name": "Python 3 (ipykernel)",
   "language": "python",
   "name": "python3"
  },
  "language_info": {
   "codemirror_mode": {
    "name": "ipython",
    "version": 3
   },
   "file_extension": ".py",
   "mimetype": "text/x-python",
   "name": "python",
   "nbconvert_exporter": "python",
   "pygments_lexer": "ipython3",
   "version": "3.9.7"
  }
 },
 "nbformat": 4,
 "nbformat_minor": 4
}
